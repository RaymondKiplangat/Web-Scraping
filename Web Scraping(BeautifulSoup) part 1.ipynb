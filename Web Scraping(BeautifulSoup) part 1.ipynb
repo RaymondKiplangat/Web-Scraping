{
 "cells": [
  {
   "cell_type": "code",
   "execution_count": 3,
   "id": "225c2c60",
   "metadata": {},
   "outputs": [],
   "source": [
    "from bs4 import BeautifulSoup\n",
    "import requests"
   ]
  },
  {
   "cell_type": "code",
   "execution_count": 6,
   "id": "9fc616f2",
   "metadata": {},
   "outputs": [
    {
     "name": "stdout",
     "output_type": "stream",
     "text": [
      "<!DOCTYPE html>\n",
      "<html class=\"no-js\" lang=\"\">\n",
      " <head>\n",
      "  <title>\n",
      "   Test - A Sample Website\n",
      "  </title>\n",
      "  <meta charset=\"utf-8\"/>\n",
      "  <link href=\"css/normalize.css\" rel=\"stylesheet\"/>\n",
      "  <link href=\"css/main.css\" rel=\"stylesheet\"/>\n",
      " </head>\n",
      " <body>\n",
      "  <h1 id=\"site_title\">\n",
      "   Test Website\n",
      "  </h1>\n",
      "  <hr/>\n",
      "  <div class=\"article\">\n",
      "   <h2>\n",
      "    <a href=\"article_1.html\">\n",
      "     Article 1 Headline\n",
      "    </a>\n",
      "   </h2>\n",
      "   <p>\n",
      "    This is a summary of article 1\n",
      "   </p>\n",
      "  </div>\n",
      "  <hr/>\n",
      "  <div class=\"article\">\n",
      "   <h2>\n",
      "    <a href=\"article_2.html\">\n",
      "     Article 2 Headline\n",
      "    </a>\n",
      "   </h2>\n",
      "   <p>\n",
      "    This is a summary of article 2\n",
      "   </p>\n",
      "  </div>\n",
      "  <hr/>\n",
      "  <div class=\"footer\">\n",
      "   <p>\n",
      "    Footer Information\n",
      "   </p>\n",
      "  </div>\n",
      "  <script src=\"js/vendor/modernizr-3.5.0.min.js\">\n",
      "  </script>\n",
      "  <script src=\"js/plugins.js\">\n",
      "  </script>\n",
      "  <script src=\"js/main.js\">\n",
      "  </script>\n",
      " </body>\n",
      "</html>\n",
      "\n"
     ]
    }
   ],
   "source": [
    "with open(\"C:/Users/Raymond/Desktop/simple.html\") as html_file:\n",
    "    soup = BeautifulSoup(html_file, 'lxml')\n",
    "print(soup.prettify())"
   ]
  },
  {
   "cell_type": "code",
   "execution_count": 7,
   "id": "3e0c79c7",
   "metadata": {},
   "outputs": [
    {
     "name": "stdout",
     "output_type": "stream",
     "text": [
      "<div class=\"article\">\n",
      "<h2><a href=\"article_1.html\">Article 1 Headline</a></h2>\n",
      "<p>This is a summary of article 1</p>\n",
      "</div>\n"
     ]
    }
   ],
   "source": [
    "article = soup.find('div',class_= 'article')\n",
    "print (article)\n"
   ]
  },
  {
   "cell_type": "code",
   "execution_count": 8,
   "id": "b35e0785",
   "metadata": {},
   "outputs": [
    {
     "name": "stdout",
     "output_type": "stream",
     "text": [
      "Article 1 Headline\n"
     ]
    }
   ],
   "source": [
    "headline = article.h2.a.text\n",
    "print(headline)"
   ]
  },
  {
   "cell_type": "code",
   "execution_count": 9,
   "id": "5e47f274",
   "metadata": {},
   "outputs": [
    {
     "name": "stdout",
     "output_type": "stream",
     "text": [
      "This is a summary of article 1\n"
     ]
    }
   ],
   "source": [
    "summary = article.p.text\n",
    "print(summary)"
   ]
  },
  {
   "cell_type": "code",
   "execution_count": 10,
   "id": "5e029b06",
   "metadata": {},
   "outputs": [
    {
     "name": "stdout",
     "output_type": "stream",
     "text": [
      "Article 1 Headline\n",
      "This is a summary of article 1\n"
     ]
    }
   ],
   "source": [
    "print(headline)\n",
    "print(summary)"
   ]
  },
  {
   "cell_type": "code",
   "execution_count": null,
   "id": "221b7e62",
   "metadata": {},
   "outputs": [],
   "source": []
  },
  {
   "cell_type": "code",
   "execution_count": 13,
   "id": "740abece",
   "metadata": {},
   "outputs": [
    {
     "name": "stdout",
     "output_type": "stream",
     "text": [
      "Article 1 Headline\n",
      "This is a summary of article 1\n",
      "\n",
      "Article 2 Headline\n",
      "This is a summary of article 2\n",
      "\n"
     ]
    }
   ],
   "source": [
    "# instead of printing each you can create a for loop to loop through all the tags and print.\n",
    "\n",
    "for article in soup.find_all('div',class_= 'article'):\n",
    "    headline = article.h2.a.text\n",
    "    print(headline)\n",
    "    \n",
    "    summary = article.p.text\n",
    "    print(summary)\n",
    "    \n",
    "    print()\n",
    "    \n"
   ]
  },
  {
   "cell_type": "code",
   "execution_count": null,
   "id": "c5c27649",
   "metadata": {},
   "outputs": [],
   "source": []
  }
 ],
 "metadata": {
  "kernelspec": {
   "display_name": "Python 3",
   "language": "python",
   "name": "python3"
  },
  "language_info": {
   "codemirror_mode": {
    "name": "ipython",
    "version": 3
   },
   "file_extension": ".py",
   "mimetype": "text/x-python",
   "name": "python",
   "nbconvert_exporter": "python",
   "pygments_lexer": "ipython3",
   "version": "3.8.10"
  }
 },
 "nbformat": 4,
 "nbformat_minor": 5
}
